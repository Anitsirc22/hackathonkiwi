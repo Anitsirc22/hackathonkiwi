{
 "cells": [
  {
   "cell_type": "code",
   "execution_count": 5,
   "metadata": {},
   "outputs": [
    {
     "name": "stdout",
     "output_type": "stream",
     "text": [
      "{'features': [{'geometry': {'type': 'Point', 'coordinates': [2.078333, 41.296944]}, 'type': 'Feature', 'properties': {'x_start': 2.078333, 'x_end': 9.849167, 'id_start': -1, 'id_end': 0, 'y_start': 41.296944, 'y_end': 57.092778, 'city': 'AAL'}}, {'geometry': {'type': 'Point', 'coordinates': [2.078333, 41.296944]}, 'type': 'Feature', 'properties': {'x_start': 2.078333, 'x_end': 4.764167, 'id_start': -1, 'id_end': 1, 'y_start': 41.296944, 'y_end': 52.308056, 'city': 'AMS'}}, {'geometry': {'type': 'Point', 'coordinates': [2.078333, 41.296944]}, 'type': 'Feature', 'properties': {'x_start': 2.078333, 'x_end': -0.127758, 'id_start': -1, 'id_end': 2, 'y_start': 41.296944, 'y_end': 51.507351, 'city': 'LON'}}, {'geometry': {'type': 'Point', 'coordinates': [2.078333, 41.296944]}, 'type': 'Feature', 'properties': {'x_start': 2.078333, 'x_end': 2.547778, 'id_start': -1, 'id_end': 3, 'y_start': 41.296944, 'y_end': 49.009722, 'city': 'CDG'}}, {'geometry': {'type': 'Point', 'coordinates': [2.078333, 41.296944]}, 'type': 'Feature', 'properties': {'x_start': 2.078333, 'x_end': 37.261389, 'id_start': -1, 'id_end': 4, 'y_start': 41.296944, 'y_end': 55.591667, 'city': 'VNC'}}, {'geometry': {'type': 'Point', 'coordinates': [2.078333, 41.296944]}, 'type': 'Feature', 'properties': {'x_start': 2.078333, 'x_end': 12.238889, 'id_start': -1, 'id_end': 5, 'y_start': 41.296944, 'y_end': 41.800278, 'city': 'FCO'}}, {'geometry': {'type': 'Point', 'coordinates': [2.078333, 41.296944]}, 'type': 'Feature', 'properties': {'x_start': 2.078333, 'x_end': -3.566667, 'id_start': -1, 'id_end': 6, 'y_start': 41.296944, 'y_end': 40.493611, 'city': 'MAD'}}, {'geometry': {'type': 'Point', 'coordinates': [2.078333, 41.296944]}, 'type': 'Feature', 'properties': {'x_start': 2.078333, 'x_end': 8.723056, 'id_start': -1, 'id_end': 7, 'y_start': 41.296944, 'y_end': 45.63, 'city': 'MXP'}}, {'geometry': {'type': 'Point', 'coordinates': [2.078333, 41.296944]}, 'type': 'Feature', 'properties': {'x_start': 2.078333, 'x_end': 14.26, 'id_start': -1, 'id_end': 8, 'y_start': 41.296944, 'y_end': 50.100833, 'city': 'PRG'}}, {'geometry': {'type': 'Point', 'coordinates': [2.078333, 41.296944]}, 'type': 'Feature', 'properties': {'x_start': 2.078333, 'x_end': 13.287778, 'id_start': -1, 'id_end': 9, 'y_start': 41.296944, 'y_end': 52.559722, 'city': 'TXL'}}]}\n"
     ]
    }
   ],
   "source": [
    "list_cities=['AAL','AMS','LON','CDG','VNC','FCO','MAD','MXP','PRG','TXL']\n",
    "dict_coords={}\n",
    "each_city=[]\n",
    "\n",
    "import requests\n",
    "apikey = \"StwVLuRLDExcjA2S4QeyMAwqiADQGWFu\"\n",
    "parameters = {\"apikey\" : apikey,\n",
    "                      \"term\": 'BCN',\n",
    "                      \"radius\": 10,\n",
    "                      \"limit\": '1'}\n",
    "                      #,\n",
    "                      #\"locale\"  : 'en-US',              \n",
    "                      #\"location_types\": 'airport',\n",
    "                      #\"limit\"  : '10',\n",
    "                      #\"active_only\" : 'true'}\n",
    "url = requests.Request('GET','https://kiwicom-prod.apigee.net/locations/query?',params=parameters).prepare().url\n",
    "from urllib.parse import unquote\n",
    "url_encode = unquote(unquote( url ))\n",
    "\n",
    "response = requests.get( url_encode )\n",
    "result = response.text  #Type= String\n",
    "\n",
    "#print (result)\n",
    "import json\n",
    "\n",
    "parsed = json.loads(result)\n",
    "#print(json.dumps(parsed, indent=4, sort_keys=True))\n",
    "\n",
    "import pandas as pd\n",
    "df=pd.DataFrame.from_dict(parsed[\"locations\"])\n",
    "location_dict=df['location'][0]\n",
    "\n",
    "\n",
    "\n",
    "y_start=location_dict[\"lat\"]\n",
    "x_start=location_dict[\"lon\"]\n",
    "\n",
    "\n",
    "for i in range(len(list_cities)):        \n",
    "        import requests\n",
    "\n",
    "        apikey = \"StwVLuRLDExcjA2S4QeyMAwqiADQGWFu\"\n",
    "\n",
    "        parameters = {\"apikey\" : apikey,\n",
    "                      \"term\": list_cities[i],\n",
    "                      \"radius\": 10,\n",
    "                      \"limit\": '1'}\n",
    "                      #,\n",
    "                      #\"locale\"  : 'en-US',              \n",
    "                      #\"location_types\": 'airport',\n",
    "                      #\"limit\"  : '10',\n",
    "                      #\"active_only\" : 'true'}\n",
    "\n",
    "        url = requests.Request('GET','https://kiwicom-prod.apigee.net/locations/query?',params=parameters).prepare().url\n",
    "\n",
    "        from urllib.parse import unquote\n",
    "        url_encode = unquote(unquote( url ))\n",
    "\n",
    "        response = requests.get( url_encode )\n",
    "        result = response.text  #Type= String\n",
    "\n",
    "        #print (result)\n",
    "        import json\n",
    "\n",
    "        parsed = json.loads(result)\n",
    "        #print(json.dumps(parsed, indent=4, sort_keys=True))\n",
    "        \n",
    "        import pandas as pd\n",
    "        df=pd.DataFrame.from_dict(parsed[\"locations\"])\n",
    "        location_dict=df['location'][0]\n",
    "        \n",
    "        \n",
    "        \n",
    "        y_end=location_dict[\"lat\"]\n",
    "        x_end=location_dict[\"lon\"]\n",
    "        #dict_coords[i]=[lat,lng]\n",
    "        \n",
    "        list_cities\n",
    "        \n",
    "        dict_coords={\n",
    "          \"features\":each_city\n",
    "        }\n",
    "\n",
    "        geometry={\n",
    "            \"type\":\"Point\",\n",
    "            \"coordinates\":[x_start,y_start]\n",
    "        }\n",
    "\n",
    "      \n",
    "        properties={\n",
    "            \"x_start\":x_start,\n",
    "            \"x_end\":x_end,\n",
    "            \"id_start\":-1,\n",
    "            \"id_end\":i,\n",
    "            \"y_start\":y_start,\n",
    "            \"y_end\":y_end,\n",
    "            \"city\":list_cities[i]\n",
    "        }\n",
    "\n",
    "        dict_city={\"geometry\":geometry,\n",
    "                   \"type\":\"Feature\",\n",
    "                  \"properties\":properties}\n",
    "\n",
    "        dict_coords[\"features\"].append(dict_city)\n",
    "        \n",
    "        #print(dict_coords)\n",
    "        #dict_coords[\"features\"][i]=dict_city\n",
    "        #index=index+1\n",
    "        #print(dict_coords)\n",
    "\n",
    "      \n",
    "print(dict_coords)"
   ]
  },
  {
   "cell_type": "code",
   "execution_count": 8,
   "metadata": {},
   "outputs": [],
   "source": [
    "dict_coords_var=\"var cities=\"+str(dict_coords)"
   ]
  },
  {
   "cell_type": "code",
   "execution_count": 9,
   "metadata": {},
   "outputs": [
    {
     "data": {
      "text/plain": [
       "\"var cities={'features': [{'geometry': {'type': 'Point', 'coordinates': [2.078333, 41.296944]}, 'type': 'Feature', 'properties': {'x_start': 2.078333, 'x_end': 9.849167, 'id_start': -1, 'id_end': 0, 'y_start': 41.296944, 'y_end': 57.092778, 'city': 'AAL'}}, {'geometry': {'type': 'Point', 'coordinates': [2.078333, 41.296944]}, 'type': 'Feature', 'properties': {'x_start': 2.078333, 'x_end': 4.764167, 'id_start': -1, 'id_end': 1, 'y_start': 41.296944, 'y_end': 52.308056, 'city': 'AMS'}}, {'geometry': {'type': 'Point', 'coordinates': [2.078333, 41.296944]}, 'type': 'Feature', 'properties': {'x_start': 2.078333, 'x_end': -0.127758, 'id_start': -1, 'id_end': 2, 'y_start': 41.296944, 'y_end': 51.507351, 'city': 'LON'}}, {'geometry': {'type': 'Point', 'coordinates': [2.078333, 41.296944]}, 'type': 'Feature', 'properties': {'x_start': 2.078333, 'x_end': 2.547778, 'id_start': -1, 'id_end': 3, 'y_start': 41.296944, 'y_end': 49.009722, 'city': 'CDG'}}, {'geometry': {'type': 'Point', 'coordinates': [2.078333, 41.296944]}, 'type': 'Feature', 'properties': {'x_start': 2.078333, 'x_end': 37.261389, 'id_start': -1, 'id_end': 4, 'y_start': 41.296944, 'y_end': 55.591667, 'city': 'VNC'}}, {'geometry': {'type': 'Point', 'coordinates': [2.078333, 41.296944]}, 'type': 'Feature', 'properties': {'x_start': 2.078333, 'x_end': 12.238889, 'id_start': -1, 'id_end': 5, 'y_start': 41.296944, 'y_end': 41.800278, 'city': 'FCO'}}, {'geometry': {'type': 'Point', 'coordinates': [2.078333, 41.296944]}, 'type': 'Feature', 'properties': {'x_start': 2.078333, 'x_end': -3.566667, 'id_start': -1, 'id_end': 6, 'y_start': 41.296944, 'y_end': 40.493611, 'city': 'MAD'}}, {'geometry': {'type': 'Point', 'coordinates': [2.078333, 41.296944]}, 'type': 'Feature', 'properties': {'x_start': 2.078333, 'x_end': 8.723056, 'id_start': -1, 'id_end': 7, 'y_start': 41.296944, 'y_end': 45.63, 'city': 'MXP'}}, {'geometry': {'type': 'Point', 'coordinates': [2.078333, 41.296944]}, 'type': 'Feature', 'properties': {'x_start': 2.078333, 'x_end': 14.26, 'id_start': -1, 'id_end': 8, 'y_start': 41.296944, 'y_end': 50.100833, 'city': 'PRG'}}, {'geometry': {'type': 'Point', 'coordinates': [2.078333, 41.296944]}, 'type': 'Feature', 'properties': {'x_start': 2.078333, 'x_end': 13.287778, 'id_start': -1, 'id_end': 9, 'y_start': 41.296944, 'y_end': 52.559722, 'city': 'TXL'}}]}\""
      ]
     },
     "execution_count": 9,
     "metadata": {},
     "output_type": "execute_result"
    }
   ],
   "source": [
    "dict_coords_var"
   ]
  },
  {
   "cell_type": "code",
   "execution_count": 12,
   "metadata": {},
   "outputs": [],
   "source": [
    "import json\n",
    "with open('result.json', 'w') as fp:\n",
    "    json.dump(dict_coords, fp)"
   ]
  },
  {
   "cell_type": "code",
   "execution_count": null,
   "metadata": {},
   "outputs": [],
   "source": []
  }
 ],
 "metadata": {
  "kernelspec": {
   "display_name": "Python 3",
   "language": "python",
   "name": "python3"
  },
  "language_info": {
   "codemirror_mode": {
    "name": "ipython",
    "version": 3
   },
   "file_extension": ".py",
   "mimetype": "text/x-python",
   "name": "python",
   "nbconvert_exporter": "python",
   "pygments_lexer": "ipython3",
   "version": "3.6.4"
  }
 },
 "nbformat": 4,
 "nbformat_minor": 2
}
